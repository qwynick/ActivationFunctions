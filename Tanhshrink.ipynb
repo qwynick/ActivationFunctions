{
 "cells": [
  {
   "cell_type": "code",
   "execution_count": 1,
   "id": "92143008",
   "metadata": {},
   "outputs": [],
   "source": [
    "import scipy.io as scio\n",
    "from matplotlib import pyplot as plt\n",
    "import pandas as pd\n",
    "import numpy as np\n",
    "import torch\n",
    "from torch import nn"
   ]
  },
  {
   "cell_type": "code",
   "execution_count": 3,
   "id": "dbb386a4",
   "metadata": {},
   "outputs": [],
   "source": [
    "raw = scio.loadmat(r'C:\\Users\\qwyni\\OneDrive\\RepeatThesis\\100x5.mat')\n",
    "T,D,WL=raw['TS'][0],raw['D'][0],raw['lambda'][0]"
   ]
  },
  {
   "cell_type": "code",
   "execution_count": 4,
   "id": "f5de09db",
   "metadata": {},
   "outputs": [
    {
     "data": {
      "text/plain": [
       "(1000000, 1000000)"
      ]
     },
     "execution_count": 4,
     "metadata": {},
     "output_type": "execute_result"
    }
   ],
   "source": [
    "T=np.array([i[0] for i in T],dtype=np.float32)\n",
    "D=np.array([i[0] for i in D],dtype=np.float32)\n",
    "len(D),len(T)"
   ]
  },
  {
   "cell_type": "code",
   "execution_count": null,
   "id": "64f76d0f",
   "metadata": {},
   "outputs": [],
   "source": [
    "fig, ax = plt.subplots(1, 5,figsize=(20,6))\n",
    "for i in range(10):\n",
    "    ax.flat[i].plot(WL,T[i],label='T')\n",
    "    ax.flat[i].legend()\n",
    "    ax.flat[i].set_title('Total')"
   ]
  },
  {
   "cell_type": "code",
   "execution_count": null,
   "id": "70d0ff68",
   "metadata": {},
   "outputs": [],
   "source": [
    "import torch\n",
    "device = 'cuda' if torch.cuda.is_available() else 'cpu'\n",
    "T=torch.tensor(T).to(device)\n",
    "D=torch.tensor(D).to(device)"
   ]
  },
  {
   "cell_type": "code",
   "execution_count": null,
   "id": "7acbfcce",
   "metadata": {},
   "outputs": [],
   "source": [
    "from torch.utils.data import DataLoader,Dataset\n",
    "class Mydata(Dataset):\n",
    "    def __init__(self, data, label):\n",
    "        self.data = data\n",
    "        self.label = label\n",
    "    def __len__(self):\n",
    "        return len(self.label)\n",
    "    def __getitem__(self, item):\n",
    "        return self.data[item], self.label[item]\n",
    "\n",
    "idx=len(T)//5\n",
    "train_dataset = Mydata(D[idx:],T[idx:])\n",
    "test_dataset = Mydata(D[:idx],T[:idx])\n",
    "train = DataLoader(train_dataset, batch_size=256, shuffle=True)\n",
    "test = DataLoader(test_dataset, batch_size=2048, shuffle=False)"
   ]
  },
  {
   "cell_type": "code",
   "execution_count": null,
   "id": "7024f5cb",
   "metadata": {},
   "outputs": [],
   "source": [
    "model=nn.Sequential(nn.Linear(10,512),\n",
    "             nn.Tanhshrink(),\n",
    "             nn.Linear(512,256),\n",
    "             nn.Tanhshrink(),\n",
    "             nn.Linear(256,128),\n",
    "             nn.Tanhshrink(),\n",
    "             nn.Linear(128,71))\n",
    "criterion=nn.MSELoss(reduction='mean')\n",
    "lr=3e-4\n",
    "opti=torch.optim.NAdam(model.parameters(),lr=lr)\n",
    "model=model.to(device)\n",
    "train_loss,test_loss=[],[]"
   ]
  },
  {
   "cell_type": "code",
   "execution_count": null,
   "id": "1d8d2a82",
   "metadata": {
    "scrolled": true,
    "tags": []
   },
   "outputs": [],
   "source": [
    "eps=5000\n",
    "for ep in range(1+eps):\n",
    "    acc_sum,loss_sum,train_tot=0,0,0\n",
    "    for i,(x_train,y_train) in enumerate(train):\n",
    "        opti.zero_grad()\n",
    "        y_pred=model(x_train)\n",
    "        loss=criterion(y_pred,y_train)\n",
    "        loss.backward()\n",
    "        opti.step()\n",
    "        loss_sum+=loss.item()*len(x_train)\n",
    "        train_tot+=len(x_train)\n",
    "    train_loss.append(loss_sum/train_tot)\n",
    "    with torch.no_grad():\n",
    "        acc_sum,loss_sum,test_tot=0,0,0\n",
    "        for x_test,y_test in test:\n",
    "            y_pred=model(x_test)\n",
    "#             acc+=torch.sum(y_pred.argmax(axis=1)==y_test).item()\n",
    "            loss=criterion(y_pred,y_test)\n",
    "            loss_sum+=loss.item()*len(x_test)\n",
    "            test_tot+=len(x_test)\n",
    "        test_loss.append(loss_sum/test_tot)\n",
    "    print('epochs={},  train_loss={},  test_loss={}'.format(ep,train_loss[-1],test_loss[-1]))\n",
    "    if ep%200==0:\n",
    "        lr*=0.8\n",
    "        for p in opti.param_groups:\n",
    "            p['lr']=lr\n",
    "        torch.save(model,'./pkls/Tanhshrinkx'+str(ep)+'.pkl')\n",
    "        np.savez('./npzs/Tanhshrinkx'+str(ep)+'.npz',train_loss=train_loss,test_loss=test_loss)\n",
    "plt.plot(train_loss,label='train_loss')\n",
    "plt.plot(test_loss,label='test_loss')\n",
    "plt.yscale('log')"
   ]
  },
  {
   "cell_type": "code",
   "execution_count": null,
   "id": "1c073625",
   "metadata": {},
   "outputs": [],
   "source": [
    "x,y=1,1\n",
    "for a,b in test:\n",
    "    x,y=a,b\n",
    "    break\n",
    "fig,ax=plt.subplots(1,4,figsize=(12,3))\n",
    "for i,axi in enumerate(ax.flat):\n",
    "    axi.plot(WL*1e9,model(x).cpu().detach().numpy()[i]*100,label='DL')\n",
    "    axi.plot(WL*1e9,y[i].cpu()*100,label='TMM')\n",
    "    axi.legend()\n",
    "fig.tight_layout()\n",
    "plt.savefig('./figs/figTanhshrinktest.svg',format='svg')"
   ]
  },
  {
   "cell_type": "code",
   "execution_count": null,
   "id": "f242c244",
   "metadata": {},
   "outputs": [],
   "source": [
    "x,y=1,1\n",
    "for a,b in train:\n",
    "    x,y=a,b\n",
    "    break\n",
    "fig,ax=plt.subplots(1,4,figsize=(12,3))\n",
    "for i,axi in enumerate(ax.flat):\n",
    "    axi.plot(WL*1e9,model(x).cpu().detach().numpy()[i]*100,label='DL')\n",
    "    axi.plot(WL*1e9,y[i].cpu()*100,label='TMM')\n",
    "    axi.legend()\n",
    "fig.tight_layout()\n",
    "plt.savefig('./figs/figTanhshrinktrain.svg',format='svg')"
   ]
  }
 ],
 "metadata": {
  "kernelspec": {
   "display_name": "Python 3 (ipykernel)",
   "language": "python",
   "name": "python3"
  },
  "language_info": {
   "codemirror_mode": {
    "name": "ipython",
    "version": 3
   },
   "file_extension": ".py",
   "mimetype": "text/x-python",
   "name": "python",
   "nbconvert_exporter": "python",
   "pygments_lexer": "ipython3",
   "version": "3.9.13"
  }
 },
 "nbformat": 4,
 "nbformat_minor": 5
}
